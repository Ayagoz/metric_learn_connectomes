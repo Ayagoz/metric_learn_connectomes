{
 "cells": [
  {
   "cell_type": "code",
   "execution_count": 1,
   "metadata": {
    "collapsed": true
   },
   "outputs": [],
   "source": [
    "import pandas as pd"
   ]
  },
  {
   "cell_type": "code",
   "execution_count": 2,
   "metadata": {
    "collapsed": true
   },
   "outputs": [],
   "source": [
    "data = pd.read_csv('ucla_results_SDML_exp_spectral', sep = '\\t', index_col=0)"
   ]
  },
  {
   "cell_type": "code",
   "execution_count": 3,
   "metadata": {},
   "outputs": [
    {
     "data": {
      "text/html": [
       "<div>\n",
       "<style>\n",
       "    .dataframe thead tr:only-child th {\n",
       "        text-align: right;\n",
       "    }\n",
       "\n",
       "    .dataframe thead th {\n",
       "        text-align: left;\n",
       "    }\n",
       "\n",
       "    .dataframe tbody tr th {\n",
       "        vertical-align: top;\n",
       "    }\n",
       "</style>\n",
       "<table border=\"1\" class=\"dataframe\">\n",
       "  <thead>\n",
       "    <tr style=\"text-align: right;\">\n",
       "      <th></th>\n",
       "      <th>normalization1</th>\n",
       "      <th>normalization2</th>\n",
       "      <th>features</th>\n",
       "      <th>selection</th>\n",
       "      <th>machine_learning</th>\n",
       "      <th>grid_roc_auc_mean</th>\n",
       "      <th>grid_roc_auc_std</th>\n",
       "      <th>grid_roc_auc_best_params</th>\n",
       "      <th>eval_roc_auc_mean</th>\n",
       "      <th>eval_roc_auc_std</th>\n",
       "      <th>eval_roc_auc_scores</th>\n",
       "    </tr>\n",
       "  </thead>\n",
       "  <tbody>\n",
       "    <tr>\n",
       "      <th>0</th>\n",
       "      <td>wbysqdist</td>\n",
       "      <td>spectral</td>\n",
       "      <td>degrees</td>\n",
       "      <td>vartreshold</td>\n",
       "      <td>SDML</td>\n",
       "      <td>0.698936</td>\n",
       "      <td>0.250953</td>\n",
       "      <td>{'metric__balance': 0.1, 'metric__use_cov': Fa...</td>\n",
       "      <td>0.697</td>\n",
       "      <td>0.157293</td>\n",
       "      <td>[ 0.5   0.88  0.44  0.9   0.75  0.8   0.6   0....</td>\n",
       "    </tr>\n",
       "    <tr>\n",
       "      <th>1</th>\n",
       "      <td>wbysqdist</td>\n",
       "      <td>spectral</td>\n",
       "      <td>degrees</td>\n",
       "      <td>origS</td>\n",
       "      <td>SDML</td>\n",
       "      <td>0.698936</td>\n",
       "      <td>0.250953</td>\n",
       "      <td>{'metric__balance': 0.1, 'metric__use_cov': Fa...</td>\n",
       "      <td>0.697</td>\n",
       "      <td>0.157293</td>\n",
       "      <td>[ 0.5   0.88  0.44  0.9   0.75  0.8   0.6   0....</td>\n",
       "    </tr>\n",
       "  </tbody>\n",
       "</table>\n",
       "</div>"
      ],
      "text/plain": [
       "  normalization1 normalization2 features    selection machine_learning  \\\n",
       "0      wbysqdist       spectral  degrees  vartreshold             SDML   \n",
       "1      wbysqdist       spectral  degrees        origS             SDML   \n",
       "\n",
       "   grid_roc_auc_mean  grid_roc_auc_std  \\\n",
       "0           0.698936          0.250953   \n",
       "1           0.698936          0.250953   \n",
       "\n",
       "                            grid_roc_auc_best_params  eval_roc_auc_mean  \\\n",
       "0  {'metric__balance': 0.1, 'metric__use_cov': Fa...              0.697   \n",
       "1  {'metric__balance': 0.1, 'metric__use_cov': Fa...              0.697   \n",
       "\n",
       "   eval_roc_auc_std                                eval_roc_auc_scores  \n",
       "0          0.157293  [ 0.5   0.88  0.44  0.9   0.75  0.8   0.6   0....  \n",
       "1          0.157293  [ 0.5   0.88  0.44  0.9   0.75  0.8   0.6   0....  "
      ]
     },
     "execution_count": 3,
     "metadata": {},
     "output_type": "execute_result"
    }
   ],
   "source": [
    "data"
   ]
  },
  {
   "cell_type": "code",
   "execution_count": 20,
   "metadata": {},
   "outputs": [
    {
     "data": {
      "text/plain": [
       "('[ 0.5   0.88  0.44  0.9   0.75  0.8   0.6   0.55  0.7   0.85]', 0    0.697\n",
       " 1    0.697\n",
       " Name: eval_roc_auc_mean, dtype: float64)"
      ]
     },
     "execution_count": 20,
     "metadata": {},
     "output_type": "execute_result"
    }
   ],
   "source": [
    "data['eval_roc_auc_scores'][0], data.eval_roc_auc_mean"
   ]
  },
  {
   "cell_type": "code",
   "execution_count": 4,
   "metadata": {
    "collapsed": true
   },
   "outputs": [],
   "source": [
    "d = pd.read_csv('ucla_results_LMNN_inn_spectral', sep ='\\t', index_col = 0)"
   ]
  },
  {
   "cell_type": "code",
   "execution_count": 19,
   "metadata": {},
   "outputs": [
    {
     "data": {
      "text/plain": [
       "('[ 0.46666667  0.96        0.64        0.9         0.65        0.8         0.65\\n  0.8         0.75        0.9       ]',\n",
       " 0    0.736\n",
       " 1    0.736\n",
       " Name: eval_roc_auc_mean, dtype: float64)"
      ]
     },
     "execution_count": 19,
     "metadata": {},
     "output_type": "execute_result"
    }
   ],
   "source": [
    "d['eval_roc_auc_scores'][0] ,dd.eval_roc_auc_mean"
   ]
  },
  {
   "cell_type": "code",
   "execution_count": 11,
   "metadata": {
    "collapsed": true
   },
   "outputs": [],
   "source": [
    "dd = pd.read_csv('ucla_results_SDML_inn_spectral', sep = '\\t', index_col = 0)"
   ]
  },
  {
   "cell_type": "code",
   "execution_count": 17,
   "metadata": {},
   "outputs": [
    {
     "data": {
      "text/plain": [
       "('[ 0.5   0.8   0.56  0.9   0.65  0.85  0.6   0.8   0.8   0.9 ]', 0    0.736\n",
       " 1    0.736\n",
       " Name: eval_roc_auc_mean, dtype: float64)"
      ]
     },
     "execution_count": 17,
     "metadata": {},
     "output_type": "execute_result"
    }
   ],
   "source": [
    "dd['eval_roc_auc_scores'][0], dd.eval_roc_auc_mean"
   ]
  },
  {
   "cell_type": "code",
   "execution_count": 21,
   "metadata": {},
   "outputs": [
    {
     "data": {
      "text/html": [
       "<div>\n",
       "<style>\n",
       "    .dataframe thead tr:only-child th {\n",
       "        text-align: right;\n",
       "    }\n",
       "\n",
       "    .dataframe thead th {\n",
       "        text-align: left;\n",
       "    }\n",
       "\n",
       "    .dataframe tbody tr th {\n",
       "        vertical-align: top;\n",
       "    }\n",
       "</style>\n",
       "<table border=\"1\" class=\"dataframe\">\n",
       "  <thead>\n",
       "    <tr style=\"text-align: right;\">\n",
       "      <th></th>\n",
       "      <th>normalization1</th>\n",
       "      <th>normalization2</th>\n",
       "      <th>features</th>\n",
       "      <th>selection</th>\n",
       "      <th>machine_learning</th>\n",
       "      <th>grid_roc_auc_mean</th>\n",
       "      <th>grid_roc_auc_std</th>\n",
       "      <th>grid_roc_auc_best_params</th>\n",
       "      <th>eval_roc_auc_mean</th>\n",
       "      <th>eval_roc_auc_std</th>\n",
       "      <th>eval_roc_auc_scores</th>\n",
       "    </tr>\n",
       "  </thead>\n",
       "  <tbody>\n",
       "    <tr>\n",
       "      <th>0</th>\n",
       "      <td>wbysqdist</td>\n",
       "      <td>spectral</td>\n",
       "      <td>degrees</td>\n",
       "      <td>vartreshold</td>\n",
       "      <td>SDML</td>\n",
       "      <td>0.731383</td>\n",
       "      <td>0.230077</td>\n",
       "      <td>{'metric__use_cov': False, 'metric__balance': ...</td>\n",
       "      <td>0.736</td>\n",
       "      <td>0.138434</td>\n",
       "      <td>[ 0.5   0.8   0.56  0.9   0.65  0.85  0.6   0....</td>\n",
       "    </tr>\n",
       "    <tr>\n",
       "      <th>1</th>\n",
       "      <td>wbysqdist</td>\n",
       "      <td>spectral</td>\n",
       "      <td>degrees</td>\n",
       "      <td>origS</td>\n",
       "      <td>SDML</td>\n",
       "      <td>0.731383</td>\n",
       "      <td>0.230077</td>\n",
       "      <td>{'metric__use_cov': False, 'metric__balance': ...</td>\n",
       "      <td>0.736</td>\n",
       "      <td>0.138434</td>\n",
       "      <td>[ 0.5   0.8   0.56  0.9   0.65  0.85  0.6   0....</td>\n",
       "    </tr>\n",
       "  </tbody>\n",
       "</table>\n",
       "</div>"
      ],
      "text/plain": [
       "  normalization1 normalization2 features    selection machine_learning  \\\n",
       "0      wbysqdist       spectral  degrees  vartreshold             SDML   \n",
       "1      wbysqdist       spectral  degrees        origS             SDML   \n",
       "\n",
       "   grid_roc_auc_mean  grid_roc_auc_std  \\\n",
       "0           0.731383          0.230077   \n",
       "1           0.731383          0.230077   \n",
       "\n",
       "                            grid_roc_auc_best_params  eval_roc_auc_mean  \\\n",
       "0  {'metric__use_cov': False, 'metric__balance': ...              0.736   \n",
       "1  {'metric__use_cov': False, 'metric__balance': ...              0.736   \n",
       "\n",
       "   eval_roc_auc_std                                eval_roc_auc_scores  \n",
       "0          0.138434  [ 0.5   0.8   0.56  0.9   0.65  0.85  0.6   0....  \n",
       "1          0.138434  [ 0.5   0.8   0.56  0.9   0.65  0.85  0.6   0....  "
      ]
     },
     "execution_count": 21,
     "metadata": {},
     "output_type": "execute_result"
    }
   ],
   "source": [
    "dd"
   ]
  },
  {
   "cell_type": "code",
   "execution_count": null,
   "metadata": {
    "collapsed": true
   },
   "outputs": [],
   "source": []
  },
  {
   "cell_type": "code",
   "execution_count": null,
   "metadata": {
    "collapsed": true
   },
   "outputs": [],
   "source": []
  },
  {
   "cell_type": "code",
   "execution_count": null,
   "metadata": {
    "collapsed": true
   },
   "outputs": [],
   "source": []
  },
  {
   "cell_type": "code",
   "execution_count": 23,
   "metadata": {
    "collapsed": true
   },
   "outputs": [],
   "source": [
    "import numpy as np"
   ]
  },
  {
   "cell_type": "code",
   "execution_count": 34,
   "metadata": {
    "collapsed": true
   },
   "outputs": [],
   "source": [
    "a = np.random.randint(0,2,25).reshape(5,5)"
   ]
  },
  {
   "cell_type": "code",
   "execution_count": 35,
   "metadata": {},
   "outputs": [
    {
     "data": {
      "text/plain": [
       "array([[1, 1, 0, 0, 0],\n",
       "       [0, 0, 0, 1, 1],\n",
       "       [0, 0, 1, 1, 0],\n",
       "       [1, 0, 0, 1, 1],\n",
       "       [0, 0, 1, 0, 1]])"
      ]
     },
     "execution_count": 35,
     "metadata": {},
     "output_type": "execute_result"
    }
   ],
   "source": [
    "a"
   ]
  },
  {
   "cell_type": "code",
   "execution_count": 36,
   "metadata": {
    "collapsed": true
   },
   "outputs": [],
   "source": [
    "b =  np.random.randint(1,10,25).reshape(5,5)"
   ]
  },
  {
   "cell_type": "code",
   "execution_count": 37,
   "metadata": {},
   "outputs": [
    {
     "data": {
      "text/plain": [
       "array([[ 0.00934579,  0.00970874,  0.        ,  0.        ,  0.        ],\n",
       "       [ 0.        ,  0.        ,  0.        ,  0.0052356 ,  0.01315789],\n",
       "       [ 0.        ,  0.        ,  0.00534759,  0.00518135,  0.        ],\n",
       "       [ 0.00740741,  0.        ,  0.        ,  0.00359712,  0.00645161],\n",
       "       [ 0.        ,  0.        ,  0.00806452,  0.        ,  0.00704225]])"
      ]
     },
     "execution_count": 37,
     "metadata": {},
     "output_type": "execute_result"
    }
   ],
   "source": [
    "a/ b.dot(b.T)"
   ]
  },
  {
   "cell_type": "code",
   "execution_count": null,
   "metadata": {
    "collapsed": true
   },
   "outputs": [],
   "source": []
  },
  {
   "cell_type": "code",
   "execution_count": 4,
   "metadata": {},
   "outputs": [
    {
     "name": "stdout",
     "output_type": "stream",
     "text": [
      "UCLA Autism data shape                   : (94, 264, 264) \n",
      "UCLA Autism target variable shape        : (94,)\n"
     ]
    }
   ],
   "source": [
    "def warn(*args, **kwargs):\n",
    "    pass\n",
    "import warnings\n",
    "warnings.warn = warn\n",
    "\n",
    "from sklearn.preprocessing import MinMaxScaler, StandardScaler\n",
    "from sklearn.pipeline import Pipeline\n",
    "\n",
    "from sklearn.svm import SVC\n",
    "\n",
    "from sklearn.model_selection import StratifiedKFold\n",
    "\n",
    "from norms import OrigN, OrigS, SpectralNorm, WbysqDist, BinarNorm\n",
    "from sklearn.feature_selection import VarianceThreshold\n",
    "\n",
    "import os\n",
    "import pandas as pd\n",
    "import numpy as np\n",
    "\n",
    "from MetricTransform import MetricTransform\n",
    "\n",
    "from reskit.core import DataTransformer, MatrixTransformer, Pipeliner\n",
    "\n",
    "from reskit.features import degrees, bag_of_edges, closeness_centrality, betweenness_centrality\n",
    "\n",
    "\n",
    "from convert import convert\n",
    "from load_data import load_ucla\n",
    "\n",
    "from norms import OrigN, OrigS, SpectralNorm, WbysqDist, BinarNorm\n",
    "\n",
    "path_ucla = '../../../Connectomics/Autism/Data/'\n",
    "\n",
    "matrix_ucla, target_ucla, xyz = load_ucla(path_ucla)\n",
    "X = {}\n",
    "X['data'] = matrix_ucla\n",
    "X['dist'] = xyz\n",
    "y = target_ucla\n",
    "\n",
    "\n",
    "\n",
    "\n",
    "param_LMNN = {'model': 'LMNN',\n",
    "              'mode': 'inner_product',\n",
    "                'max_iter': 100,\n",
    "              'min_iter':10,\n",
    "              'learn_rate':  1e-7,\n",
    "              'regularization': 0.5,\n",
    "              'conv_tol': 1e-5,\n",
    "              'k': 5,\n",
    "             }\n",
    "normalizers1 = [('wbysqdist', WbysqDist())]\n",
    "normalizers2 = [('spectral', SpectralNorm())]\n",
    "\n",
    "featurizers = [('degrees', MatrixTransformer(degrees))]\n",
    "\n",
    "selection = [('origS', OrigS())]\n",
    "\n",
    "\n",
    "pipe_lmnn = Pipeline(steps=[('metric', MetricTransform(**param_LMNN)), ('clf', SVC(kernel='precomputed'))])\n",
    "\n",
    "metric_trans_learn = [('LMNN', pipe_lmnn)]\n",
    "\n",
    "\n",
    "steps = [('normalization1', normalizers1),\n",
    "         ('normalization2', normalizers2),\n",
    "         ('features', featurizers),\n",
    "         ('selection', selection),\n",
    "         ('machine_learning', metric_trans_learn)]\n",
    "\n",
    "\n",
    "\n",
    "param_grid = {'LMNN': {'metric__max_iter':[100, 500],\n",
    "                       'metric__min_iter':[10],\n",
    "                  'metric__learn_rate': np.linspace(1e-10, 1e-2, 3),\n",
    "                  'metric__regularization': [0.1, 0.25, 0.65, 0.9],\n",
    "                  'metric__conv_tol': [0.001, 1e-5],\n",
    "                  'metric__k': [ 25,  55],\n",
    "                  'clf__C':[1e-7, 1e-2, 0.1, 1, 10 ]},\n",
    "    }\n",
    "    \n",
    "    \n",
    "\n",
    "\n",
    "grid_cv = StratifiedKFold(n_splits=10, shuffle=True, random_state=0)\n",
    "eval_cv = StratifiedKFold(n_splits=10, shuffle=True, random_state=1)\n",
    "\n",
    "pipeliner = Pipeliner(steps=steps, grid_cv=grid_cv, \n",
    "                      eval_cv=eval_cv, param_grid=param_grid)\n",
    "\n",
    "\n"
   ]
  },
  {
   "cell_type": "code",
   "execution_count": null,
   "metadata": {
    "scrolled": true
   },
   "outputs": [
    {
     "name": "stdout",
     "output_type": "stream",
     "text": [
      "Line: 1/1\n"
     ]
    }
   ],
   "source": [
    "table = pipeliner.get_results(X, y, scoring=['roc_auc'], caching_steps = ['normalization1','normalization2','features','selection'], logs_file = 'log/ucla_results_LMNN_corr.log')\n"
   ]
  },
  {
   "cell_type": "code",
   "execution_count": null,
   "metadata": {
    "collapsed": true
   },
   "outputs": [],
   "source": [
    "table.to_csv('ucla_results_LMNN_corr', sep = '\\t')"
   ]
  },
  {
   "cell_type": "code",
   "execution_count": null,
   "metadata": {
    "collapsed": true
   },
   "outputs": [],
   "source": [
    "table"
   ]
  },
  {
   "cell_type": "code",
   "execution_count": null,
   "metadata": {
    "collapsed": true
   },
   "outputs": [],
   "source": [
    "print()"
   ]
  },
  {
   "cell_type": "code",
   "execution_count": null,
   "metadata": {
    "collapsed": true
   },
   "outputs": [],
   "source": []
  },
  {
   "cell_type": "code",
   "execution_count": null,
   "metadata": {
    "collapsed": true
   },
   "outputs": [],
   "source": []
  },
  {
   "cell_type": "code",
   "execution_count": null,
   "metadata": {
    "collapsed": true
   },
   "outputs": [],
   "source": []
  }
 ],
 "metadata": {
  "anaconda-cloud": {},
  "kernelspec": {
   "display_name": "Python [conda root]",
   "language": "python",
   "name": "conda-root-py"
  },
  "language_info": {
   "codemirror_mode": {
    "name": "ipython",
    "version": 3
   },
   "file_extension": ".py",
   "mimetype": "text/x-python",
   "name": "python",
   "nbconvert_exporter": "python",
   "pygments_lexer": "ipython3",
   "version": "3.5.2"
  }
 },
 "nbformat": 4,
 "nbformat_minor": 1
}
